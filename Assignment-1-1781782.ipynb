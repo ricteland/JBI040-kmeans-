{
 "cells": [
  {
   "cell_type": "markdown",
   "metadata": {},
   "source": [
    "# Assignment 1: Centroid based clustering"
   ]
  },
  {
   "cell_type": "markdown",
   "metadata": {},
   "source": [
    "### Make sure you read through this entire notebook before getting started with implementing the algorithm.\n",
    "\n",
    "\n",
    "This notebook has the following structure:\n",
    "\n",
    "- We first shortly explain the idea of the assignment.\n",
    "- We follow thus up with a short walkthrough of the assignment, after which you can start implementing the necessary functions.\n",
    "\n",
    "\n",
    "# Introduction to this template notebook\n",
    "\n",
    "* This is a **personal** notebook.\n",
    "* Make sure you work in a **copy** of `...-template.ipynb`,\n",
    "**renamed** to `...-yourIDnr.ipynb`,\n",
    "where `yourIDnr` is your TU/e identification number.\n",
    "\n",
    "<div class=\"alert alert-danger\" role=\"danger\">\n",
    "<h3>Integrity</h3>\n",
    "<ul>\n",
    "    <li>In this course you must act according to the rules of the TU/e code of scientific conduct.</li>\n",
    "    <li>All the exercises and the graded assignments are to be executed individually and independently.</li>\n",
    "    <li>You must not copy from the Internet, your friends, books... If you represent other people's work as your own, then that constitutes fraud and will be reported to the Examination Committee.</li>\n",
    "    <li>Making your work available to others (complicity) also constitutes fraud.</li>\n",
    "</ul>\n",
    "</div>\n",
    "\n",
    "You are expected to work with Python code in this notebook.\n",
    "\n",
    "The locations where you should write your solutions can be recognized by\n",
    "**marker lines**,\n",
    "which look like this:\n",
    "\n",
    ">`#//`\n",
    ">    `BEGIN_TODO [Label]` `Description` `(n points)`\n",
    ">\n",
    ">`#//`\n",
    ">    `END_TODO [Label]`\n",
    "\n",
    "<div class=\"alert alert-warning\" role=\"alert\">Do NOT modify or delete these marker lines.  Keep them as they are.<br/>\n",
    "<br/>\n",
    "NEVER write code <i>outside</i> the marked blocks.\n",
    "Such code cannot be evaluated.\n",
    "</div>\n",
    "\n",
    "Proceed in this notebook as follows:\n",
    "* **Read** the text.\n",
    "* **Fill in** your solutions between `BEGIN_TODO` and `END_TODO` marker lines.\n",
    "* **Run** _all_ code cells (also the ones _without_ your code),\n",
    "    _in linear order_ from the first code cell.\n",
    "\n",
    "**Personalize your notebook**:\n",
    "1. Copy the following three lines of code:\n",
    "\n",
    "  ```python\n",
    "  AUTHOR_NAME = 'Your Full Name'\n",
    "  AUTHOR_ID_NR = '1234567'\n",
    "  AUTHOR_DATE = 'YYYY-MM-DD'  # when notebook was first modified, e.g. '2020-02-26'\n",
    "  ```\n",
    "\n",
    "1. Paste them between the marker lines in the next code cell.\n",
    "1. Fill in your _full name_, _identification number_, and the current _date_ as strings between quotes.\n",
    "1. Run the code cell by putting the cursor there and typing **Control-Enter**.\n"
   ]
  },
  {
   "cell_type": "code",
   "execution_count": 1,
   "metadata": {},
   "outputs": [
    {
     "data": {
      "text/plain": [
       "('Jaime Bernal Moran', '1781782', '2025-05-14')"
      ]
     },
     "execution_count": 1,
     "metadata": {},
     "output_type": "execute_result"
    }
   ],
   "source": [
    "#// BEGIN_TODO [Author] Name, Id.nr., Date, as strings (1 point)\n",
    "\n",
    "AUTHOR_NAME = 'Jaime Bernal Moran'\n",
    "AUTHOR_ID_NR = '1781782'\n",
    "AUTHOR_DATE = '2025-05-14' \n",
    "\n",
    "#// END_TODO [Author]\n",
    "\n",
    "AUTHOR_NAME, AUTHOR_ID_NR, AUTHOR_DATE"
   ]
  },
  {
   "cell_type": "markdown",
   "metadata": {},
   "source": [
    "# Centroid based clustering\n",
    "\n",
    "For this assignment, you are expected to implement the k_means clustering algorithm, as discussed in class. The functions you are expected to implement are\n",
    "* ```initialize_centroids```. This function chooses the initial cluster points. Currently, this function already contains an implementation, however, you are strongly encouraged to experiment with creating different initialisation functions once you have implemented the ```cluster``` function.\n",
    "* ```cluster```. This function should, once implemented by you, perform the actual clustering and find the proper placement of the centroids.\n",
    "\n",
    "In addition to this file, you are provided two more python files:\n",
    "* ```point.py```.  This file contains the datastructures ```Point```, ```ClusterPoint``` and ```CentroidPoint``` that you can use in your implementation of the two functions.\n",
    "* ```dataset.py```. This file contains the tools that read the input from and write the output to file.\n",
    "\n",
    "<b>Testing.</b> After (partially) implementing the two functions, you can run the <b>run</b> function at the bottom of this document. Just above this function, you are provided with the ```test_case_nr``` field. Changing this field to an integer value $x \\in [0, 6]$ allows you to choose which testcase you would like to run. This then reads the file 0$x$.in from the <b>input</b> folder and provides the resulting clustering in 0$x$.out in the <b>output</b> folder.\n",
    "\n",
    "<b>Visulisation.</b> To view the clustering you created, you can use the ```Visualizer.ipynb``` notebook that you are provided alongside this assignment. After executing the first cell, you can simply execute the cell that corresponds to the testcase you want to view and a visualisation is provided.\n",
    "\n",
    "<b>Handing in.</b> To verify your implementation, you are expected to hand in this file on Canvas. Here, we use the automated checking tool Momotor to check your implementation of the algorithm. After it has run through all the testcases (should take at most a couple minutes), you can see in the Momotor tab of the course how you scored. \n",
    "Note: you should only hand in _this_ file. The visualizer and other python files should not be handed in.\n",
    "\n",
    "We move on to the actual coding part of this assignment. At the start we import some useful tools."
   ]
  },
  {
   "cell_type": "code",
   "execution_count": 103,
   "metadata": {},
   "outputs": [],
   "source": [
    "import sys\n",
    "import os\n",
    "import time\n",
    "import numpy as np\n",
    "import math\n",
    "\n",
    "from point import *\n",
    "from dataset import *\n",
    "\n",
    "\"\"\" Runtime parameters \"\"\"\n",
    "assignment_nr = 1       # The assignment number. Used by the visualizer to determine what has to be visualized"
   ]
  },
  {
   "cell_type": "markdown",
   "metadata": {},
   "source": [
    "**Extra functions.** When implementing the ```cluster()``` and ```initialize-centroids()``` functions, you'll likely want to create a couple functions yourself. To make sure the automated grader picks up on these, make sure you place these functions in the below cell."
   ]
  },
  {
   "cell_type": "code",
   "execution_count": 104,
   "metadata": {},
   "outputs": [],
   "source": [
    "#// BEGIN_TODO [YOUR-OWN-FUNCTIONS] \n",
    "\n",
    "# ===== =====> Replace this line by your code. <===== ===== #\n",
    "\n",
    "#// END_TODO [YOUR-OWN-FUNCTIONS]"
   ]
  },
  {
   "cell_type": "markdown",
   "metadata": {},
   "source": [
    "**Initialize centroids.** We continue with the ```initialize_centroids()``` function. This function currently already has a basic implementation: it takes the first $k$ cluster points from the input and sets these as initial centroids. When checking your algorithm implementations in Momotor, only this basic implementation will be used. However, for the report you are expected to write about this assignment, you are very much encouraged to overwrite this basic implementation with something different and report on your findings."
   ]
  },
  {
   "cell_type": "code",
   "execution_count": 105,
   "metadata": {},
   "outputs": [],
   "source": [
    "def initialize_centroids(input_obj):\n",
    "    \"\"\"\n",
    "    Calculates the initial centroid placement\n",
    "\n",
    "    :param input_obj:   the input object\n",
    "    :return:            a list of k centroids in the plane\n",
    "    \"\"\"\n",
    "    #centroids = [CentroidPoint(p.dimension, list(p.coords)) for p in input_obj.cluster_points[:input_obj.k]]\n",
    "\n",
    "#// BEGIN_TODO [IMPLEMENT-INITIALIZE-CENTROIDS]\n",
    "\n",
    "      # pull out the two fields supplied by the harness:\n",
    "    points = input_obj.cluster_points   # this is your list of ClusterPoint\n",
    "    k      = input_obj.k                # this is your integer k\n",
    "\n",
    "    # now pick your k initial centroids however you like—\n",
    "    # here’s the “first k” strategy the template originally showed:\n",
    "    centroids = [CentroidPoint(p.dimension, list(p.coords)) for p in points[:k] ]\n",
    "\n",
    "#// END_TODO [IMPLEMENT-INITIALIZE-CENTROIDS]\n",
    "    return centroids"
   ]
  },
  {
   "cell_type": "markdown",
   "metadata": {},
   "source": [
    "**Cluster.** Below we find the ```cluster()``` function. Currently, no implementations has been provided. It is your task to implement the k-means clustering algorithm here."
   ]
  },
  {
   "cell_type": "code",
   "execution_count": 106,
   "metadata": {},
   "outputs": [],
   "source": [
    "def cluster(input_obj):\n",
    "    \"\"\"\n",
    "    Perform k-means clustering on the input set\n",
    "\n",
    "    :param input_obj:   the input object\n",
    "    :return:            a list of k centroids in the plane\n",
    "    \"\"\"    \n",
    "#// BEGIN_TODO [IMPLEMENT-CLUSTER]    \n",
    "    tol = 1e-6   \n",
    "    max_iters = 100\n",
    "    P = input_obj.cluster_points\n",
    "    k = input_obj.k\n",
    "    \n",
    "\n",
    "    # 1) initialize\n",
    "    centroids = initialize_centroids(input_obj)\n",
    "\n",
    "    for _ in range(max_iters):\n",
    "        # 2) assignment step\n",
    "        clusters = [[] for _ in range(k)]\n",
    "        for p in P:\n",
    "            # compute distance to each centroid\n",
    "            dists = [ math.dist(p.coords, c.coords) for c in centroids ]\n",
    "            # pick the index of the nearest (ties broken by first occurrence)\n",
    "            j = dists.index(min(dists))\n",
    "\n",
    "            p.cluster_label = j\n",
    "\n",
    "            clusters[j].append(p)\n",
    "\n",
    "        # 3) update step\n",
    "        new_centroids = []\n",
    "        for pts in clusters:\n",
    "            if pts:\n",
    "                # compute per-coordinate means\n",
    "                dims = zip(*(p.coords for p in pts))\n",
    "                mean_coords = [sum(c_list)/len(pts) for c_list in dims]\n",
    "                # wrap it in a CentroidPoint\n",
    "                new_centroids.append(\n",
    "                    CentroidPoint(pts[0].dimension, mean_coords)\n",
    "                )\n",
    "            else:\n",
    "                # pick a random ClusterPoint to re-seed, but still wrap\n",
    "                p = random.choice(P)\n",
    "                new_centroids.append(\n",
    "                    CentroidPoint(p.dimension, list(p.coords))\n",
    "                )\n",
    "\n",
    "        # 4) convergence check\n",
    "        shifts = [math.dist(c_old.coords, c_new.coords)\n",
    "                  for c_old, c_new in zip(centroids, new_centroids)]\n",
    "        if max(shifts) < tol:\n",
    "            break\n",
    "          \n",
    "        centroids = new_centroids\n",
    "\n",
    "\n",
    "\n",
    "#// END_TODO [IMPLEMENT-CLUSTER] \n",
    "    return centroids"
   ]
  },
  {
   "cell_type": "markdown",
   "metadata": {},
   "source": [
    "Next, we define the function that will take the input from file, use your clustering algorithm on get the clustering and write the result to file again."
   ]
  },
  {
   "cell_type": "code",
   "execution_count": 107,
   "metadata": {},
   "outputs": [],
   "source": [
    "def run(path_in, path_out):\n",
    "    \"\"\"\n",
    "    Reads the input set, clusters the points and writes to output\n",
    "\n",
    "    :param path_in:     location of the input set\n",
    "    :param path_out:    location to print the output\n",
    "    \"\"\"\n",
    "\n",
    "    # read input from file\n",
    "    try:\n",
    "        with open(path_in, \"r\") as f:\n",
    "            input_obj = Dataset.read_input(f)\n",
    "    except IOError:\n",
    "        print(\"Could not read input file: \" + path_in, file=sys.stderr)\n",
    "        return        \n",
    "\n",
    "    # find the best centroids using k_means\n",
    "    centroids = cluster(input_obj)\n",
    "\n",
    "    # simple check if the correct number of centroids has been given\n",
    "    assert len(centroids) == input_obj.k\n",
    "\n",
    "    # print result to file\n",
    "    try:\n",
    "        input_obj.write_output(centroids, path_out, assignment_nr)\n",
    "    except IOError:\n",
    "        print(\"Could not write output to file: \" + path_out, file=sys.stderr)\n",
    "\n",
    "    print(\"Cluster counter:      \", input_obj.k, file=sys.stderr)\n",
    "    print(\"Mean squared distance: {:.3f}\".format(input_obj.avg_score(centroids)), file=sys.stderr)                "
   ]
  },
  {
   "cell_type": "markdown",
   "metadata": {},
   "source": [
    "**Running testcases.** Lastly, you can check your implementation by running some tests on it. Below, you can choose which testcase ```test_case_nr``` $\\in[0,6]$ you would like to run."
   ]
  },
  {
   "cell_type": "code",
   "execution_count": 108,
   "metadata": {},
   "outputs": [
    {
     "name": "stderr",
     "output_type": "stream",
     "text": [
      "Cluster counter:       4\n",
      "Mean squared distance: 0.197\n",
      "Time taken:            0.208s\n"
     ]
    }
   ],
   "source": [
    "test_case_nr =   5   # which input file to read\n",
    "\n",
    "if __name__ == \"__main__\":\n",
    "    start = time.time()\n",
    "    run(\"input/{:02d}.in\".format(test_case_nr), \"output/{:02d}.out\".format(test_case_nr))\n",
    "    end = time.time()\n",
    "    print(\"Time taken:            {:.3f}s\".format(end - start), file=sys.stderr)   "
   ]
  },
  {
   "cell_type": "markdown",
   "metadata": {},
   "source": [
    "That is all. At this point you should have all the information you should need to get started. If you have any questions you are free to ask the tutor overseeing the class. If you are experiencing issues with handing in your submission to Momotor, you can contact the responsible teaching assistant via email. Their email address can be found on Canvas.\n",
    "\n",
    "Best of luck and happy clustering!\n",
    "\n",
    "&copy; 2019-2020 - **TU/e** - Eindhoven University of Technology"
   ]
  },
  {
   "cell_type": "code",
   "execution_count": null,
   "metadata": {},
   "outputs": [],
   "source": []
  }
 ],
 "metadata": {
  "file_extension": ".py",
  "kernelspec": {
   "display_name": "Python 3 (ipykernel)",
   "language": "python",
   "name": "python3"
  },
  "language_info": {
   "codemirror_mode": {
    "name": "ipython",
    "version": 3
   },
   "file_extension": ".py",
   "mimetype": "text/x-python",
   "name": "python",
   "nbconvert_exporter": "python",
   "pygments_lexer": "ipython3",
   "version": "3.12.9"
  },
  "mimetype": "text/x-python",
  "name": "python",
  "npconvert_exporter": "python",
  "pygments_lexer": "ipython3",
  "version": 3
 },
 "nbformat": 4,
 "nbformat_minor": 4
}
